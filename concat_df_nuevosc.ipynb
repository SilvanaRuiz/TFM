{
 "cells": [
  {
   "cell_type": "code",
   "execution_count": 1,
   "metadata": {},
   "outputs": [],
   "source": [
    "import pandas as pd\n",
    "##from eda import procesado_datos\n",
    "from category_encoders import BinaryEncoder\n",
    "from EDA_1 import procesado_datos\n",
    "import regex as re\n",
    "import pickle as pl"
   ]
  },
  {
   "cell_type": "code",
   "execution_count": 2,
   "metadata": {},
   "outputs": [],
   "source": [
    "#Mayo\n",
    "df0 = pd.read_excel('/Users/silvanaruizmedina/Desktop/TFM/Eventos/DATOS/datos0524/Consulta_suicidios_presentes_090524.xlsx')\n",
    "#Junio\n",
    "df1=pd.read_excel('/Users/silvanaruizmedina/Desktop/TFM/Eventos/DATOS/datos0624/Consulta_suicidios_presentes_Completa_Altas_con_ID.xlsx')\n",
    "#Julio\n",
    "df2=pd.read_excel('/Users/silvanaruizmedina/Desktop/TFM/Eventos/DATOS/datos0724/SuicidiosPresentes_2024_07_09_SIN_NIS.xls')\n",
    "#Agosto\n",
    "df3=pd.read_excel('/Users/silvanaruizmedina/Desktop/TFM/Eventos/DATOS/datos0824/SuicidiosPresentes_2024_08_10_040804_sin_nombres (2).xls')\n",
    "#Sep\n",
    "df4=pd.read_excel('/Users/silvanaruizmedina/Desktop/TFM/Eventos/DATOS/datos0924/SuicidiosPresentes_2024_09_10_040011_-SIN_NOMBRES (2).xls')\n",
    "#Oct\n",
    "df5= pd.read_excel('/Users/silvanaruizmedina/Desktop/TFM/Eventos/DATOS/datos1024/SuicidiosPresentes_2024_10_10_SIN_NOMBRES.xls')\n",
    "#Nov\n",
    "df6=pd.read_excel('/Users/silvanaruizmedina/Desktop/TFM/Eventos/DATOS/datos1124/SuicidiosPresentes_20241113_SIN_NOMBRES.xlsx')\n",
    "#Dec\n",
    "df7 = pd.read_excel('/Users/silvanaruizmedina/Desktop/TFM/Eventos/DATOS/datos1224/SuicidiosPresentes_2024_12_10_SIN_NOMBRES.xls')\n",
    "#Ene25\n",
    "df8= pd.read_excel('/Users/silvanaruizmedina/Desktop/TFM/Eventos/DATOS/datos0125/SuicidiosPresentes_2025_01_13_112928.xlsx')\n",
    "#feb25\n",
    "df9= pd.read_excel('/Users/silvanaruizmedina/Desktop/TFM/Eventos/DATOS/datos0225/SuicidiosPresentes_2025_02_10_035538.xlsx')\n"
   ]
  },
  {
   "cell_type": "code",
   "execution_count": 3,
   "metadata": {},
   "outputs": [],
   "source": [
    "d1_sc = pd.read_excel('/Users/silvanaruizmedina/Desktop/TFM/Eventos/DATOS/datos ANTERIORES CONSUMADOS/Estad._suicidios_internos_2018-2023_Sin_nombres.xls')\n",
    "d2_sc = pd.read_excel('/Users/silvanaruizmedina/Desktop/TFM/Eventos/DATOS/datos0724/09-07-2024_Bajas_por_suicidio_SIN_NIS.xlsx')\n",
    "d3_sc = pd.read_excel('/Users/silvanaruizmedina/Desktop/TFM/Eventos/DATOS/datos0824/SuicidiosBajas_2024_08_10_022249_-sin_nombres (3).xls')\n",
    "d4_sc = pd.read_excel('/Users/silvanaruizmedina/Desktop/TFM/Eventos/DATOS/datos0924/SuicidiosBajas_2024_09_10_012552__SIN_NOMBRES (2).xls')\n",
    "d5_sc = pd.read_excel('/Users/silvanaruizmedina/Desktop/TFM/Eventos/DATOS/datos1024/SuicidiosBajas_2024_10_10_SIN_NOMBRES.xls')\n",
    "#el formato es raro porloque paso \n",
    "#d6_sc = pd.read_excel('/Users/silvanaruizmedina/Desktop/TFM/Eventos/DATOS/datos1124/SuicidiosBajas_2024_11_10_011212_SIN_NOMBRES.xls')\n",
    "d7_sc = pd.read_excel('/Users/silvanaruizmedina/Desktop/TFM/Eventos/DATOS/datos1224/SuicidiosBajas_2024_12_10_SIN_NOMBRE.xls')\n",
    "d8_sc= pd.read_excel('/Users/silvanaruizmedina/Desktop/TFM/Eventos/DATOS/datos0125/SuicidiosBajas_2025_01_10_010059.xls')\n",
    "#d9_sc = pd.read_excel('/Users/silvanaruizmedina/Desktop/TFM/Eventos/DATOS/datos0225/SuicidiosBajas_2025_02_10_011336.xls')"
   ]
  },
  {
   "cell_type": "code",
   "execution_count": 7,
   "metadata": {},
   "outputs": [],
   "source": [
    "d1_sc = d1_sc.iloc[:, 1:]"
   ]
  },
  {
   "cell_type": "code",
   "execution_count": 8,
   "metadata": {},
   "outputs": [],
   "source": [
    "import re\n",
    "\n",
    "def clean_column_name(col_name):\n",
    "    # Reemplazar \"M\", \"MESE\", \"MESES\" por \"Meses\" si están precedidos por cualquier carácter\n",
    "    col_name = re.sub(r'(?<=\\w)(M|ME|MESE|MES|_)\\b', 'MESES', col_name) \n",
    "    \n",
    "    # Reemplazar \"ACT\" o \"ACTUA\" por \"Actual\" si están precedidos por cualquier carácter\n",
    "    col_name = re.sub(r'(?<=\\w)(ACT|ACTUA)\\b', 'ACTUAL', col_name)\n",
    "\n",
    "    return col_name\n",
    "# Aplicar a los nombres de las columnas de un DataFrame\n",
    "d1_sc.columns = [clean_column_name(col) for col in d1_sc.columns]"
   ]
  },
  {
   "cell_type": "code",
   "execution_count": 9,
   "metadata": {},
   "outputs": [],
   "source": [
    "d1_sc.rename(columns={\n",
    "    'NUM_ACTIV_AREA_OCUPACIONAL_15MESES': 'NUM_ACTIV_AREA_OCUPACIONAL_15_MESES',\n",
    "    'NUM_ACTIV_AREA_TERAPEUTICA_15MESES': 'NUM_ACTIV_AREA_TERAPEUTICA_15_MESES'\n",
    "}, inplace=True)"
   ]
  },
  {
   "cell_type": "code",
   "execution_count": 10,
   "metadata": {},
   "outputs": [
    {
     "data": {
      "text/html": [
       "<div>\n",
       "<style scoped>\n",
       "    .dataframe tbody tr th:only-of-type {\n",
       "        vertical-align: middle;\n",
       "    }\n",
       "\n",
       "    .dataframe tbody tr th {\n",
       "        vertical-align: top;\n",
       "    }\n",
       "\n",
       "    .dataframe thead th {\n",
       "        text-align: right;\n",
       "    }\n",
       "</style>\n",
       "<table border=\"1\" class=\"dataframe\">\n",
       "  <thead>\n",
       "    <tr style=\"text-align: right;\">\n",
       "      <th></th>\n",
       "      <th>ID_INTERNO</th>\n",
       "      <th>CODIGO_CENTRO_INGRESO</th>\n",
       "      <th>NOMBRE_CENTRO</th>\n",
       "      <th>PROVINCIA_CENTRO</th>\n",
       "      <th>MUNICIPIO_CENTRO</th>\n",
       "      <th>PROVINCIA_RESIDENCIA</th>\n",
       "      <th>NACIONALIDAD</th>\n",
       "      <th>FECHA_NACIMIENTO</th>\n",
       "      <th>SEXO</th>\n",
       "      <th>NUM_ALTAS_LIBERTAD</th>\n",
       "      <th>...</th>\n",
       "      <th>NUM_PPS</th>\n",
       "      <th>ULT_ALTA_PPS</th>\n",
       "      <th>ULT_BAJA_PPS</th>\n",
       "      <th>INTENTO_SUICIDIO_12_MESES</th>\n",
       "      <th>INTENTO_SUICIDIO_ANTERIOR_12_MESES</th>\n",
       "      <th>AUTOLESIONES_ULT_12_MESES</th>\n",
       "      <th>TIPO_AUTOLESIONES_ULT_12_MESES</th>\n",
       "      <th>AUTOLESIONES_ANTERIOR_12_MESES</th>\n",
       "      <th>TIPO_AUTOLESIONES_ANT_12_MESES</th>\n",
       "      <th>FECHA DEL INCIDENTE (Suicidio)</th>\n",
       "    </tr>\n",
       "  </thead>\n",
       "  <tbody>\n",
       "    <tr>\n",
       "      <th>57</th>\n",
       "      <td>915771</td>\n",
       "      <td>2902</td>\n",
       "      <td>Málaga</td>\n",
       "      <td>Málaga</td>\n",
       "      <td>Alhaurín de la Torre</td>\n",
       "      <td>Málaga</td>\n",
       "      <td>Mexico</td>\n",
       "      <td>1992-07-19</td>\n",
       "      <td>V</td>\n",
       "      <td>1</td>\n",
       "      <td>...</td>\n",
       "      <td>1</td>\n",
       "      <td>2017-03-17</td>\n",
       "      <td>21/04/17</td>\n",
       "      <td>0</td>\n",
       "      <td>0</td>\n",
       "      <td>1</td>\n",
       "      <td>Autolesión leve</td>\n",
       "      <td>0</td>\n",
       "      <td>NaN</td>\n",
       "      <td>2018-02-15</td>\n",
       "    </tr>\n",
       "    <tr>\n",
       "      <th>96</th>\n",
       "      <td>1034102</td>\n",
       "      <td>3001</td>\n",
       "      <td>Murcia</td>\n",
       "      <td>Murcia</td>\n",
       "      <td>Murcia</td>\n",
       "      <td>NaN</td>\n",
       "      <td>España</td>\n",
       "      <td>1996-11-11</td>\n",
       "      <td>V</td>\n",
       "      <td>1</td>\n",
       "      <td>...</td>\n",
       "      <td>0</td>\n",
       "      <td>NaT</td>\n",
       "      <td>NaN</td>\n",
       "      <td>0</td>\n",
       "      <td>0</td>\n",
       "      <td>0</td>\n",
       "      <td>NaN</td>\n",
       "      <td>0</td>\n",
       "      <td>NaN</td>\n",
       "      <td>2018-05-12</td>\n",
       "    </tr>\n",
       "    <tr>\n",
       "      <th>175</th>\n",
       "      <td>970954</td>\n",
       "      <td>2301</td>\n",
       "      <td>Jaén</td>\n",
       "      <td>Jaén</td>\n",
       "      <td>Jaén</td>\n",
       "      <td>Jaén</td>\n",
       "      <td>España</td>\n",
       "      <td>1940-05-05</td>\n",
       "      <td>V</td>\n",
       "      <td>1</td>\n",
       "      <td>...</td>\n",
       "      <td>1</td>\n",
       "      <td>2019-08-22</td>\n",
       "      <td>13/09/19</td>\n",
       "      <td>0</td>\n",
       "      <td>0</td>\n",
       "      <td>1</td>\n",
       "      <td>Autolesión leve</td>\n",
       "      <td>0</td>\n",
       "      <td>NaN</td>\n",
       "      <td>2019-06-01</td>\n",
       "    </tr>\n",
       "    <tr>\n",
       "      <th>215</th>\n",
       "      <td>948115</td>\n",
       "      <td>302</td>\n",
       "      <td>Psiquiatrico Alicante</td>\n",
       "      <td>Alicante</td>\n",
       "      <td>Alicante/Alacant</td>\n",
       "      <td>NaN</td>\n",
       "      <td>Colombia</td>\n",
       "      <td>1994-07-16</td>\n",
       "      <td>V</td>\n",
       "      <td>1</td>\n",
       "      <td>...</td>\n",
       "      <td>0</td>\n",
       "      <td>NaT</td>\n",
       "      <td>NaN</td>\n",
       "      <td>0</td>\n",
       "      <td>0</td>\n",
       "      <td>0</td>\n",
       "      <td>NaN</td>\n",
       "      <td>0</td>\n",
       "      <td>NaN</td>\n",
       "      <td>2020-04-08</td>\n",
       "    </tr>\n",
       "  </tbody>\n",
       "</table>\n",
       "<p>4 rows × 90 columns</p>\n",
       "</div>"
      ],
      "text/plain": [
       "     ID_INTERNO  CODIGO_CENTRO_INGRESO          NOMBRE_CENTRO  \\\n",
       "57       915771                   2902                 Málaga   \n",
       "96      1034102                   3001                 Murcia   \n",
       "175      970954                   2301                   Jaén   \n",
       "215      948115                    302  Psiquiatrico Alicante   \n",
       "\n",
       "    PROVINCIA_CENTRO      MUNICIPIO_CENTRO PROVINCIA_RESIDENCIA NACIONALIDAD  \\\n",
       "57            Málaga  Alhaurín de la Torre               Málaga       Mexico   \n",
       "96            Murcia                Murcia                  NaN       España   \n",
       "175             Jaén                  Jaén                 Jaén       España   \n",
       "215         Alicante      Alicante/Alacant                  NaN     Colombia   \n",
       "\n",
       "    FECHA_NACIMIENTO SEXO  NUM_ALTAS_LIBERTAD  ... NUM_PPS ULT_ALTA_PPS  \\\n",
       "57        1992-07-19    V                   1  ...       1   2017-03-17   \n",
       "96        1996-11-11    V                   1  ...       0          NaT   \n",
       "175       1940-05-05    V                   1  ...       1   2019-08-22   \n",
       "215       1994-07-16    V                   1  ...       0          NaT   \n",
       "\n",
       "    ULT_BAJA_PPS INTENTO_SUICIDIO_12_MESES INTENTO_SUICIDIO_ANTERIOR_12_MESES  \\\n",
       "57      21/04/17                         0                                  0   \n",
       "96           NaN                         0                                  0   \n",
       "175     13/09/19                         0                                  0   \n",
       "215          NaN                         0                                  0   \n",
       "\n",
       "     AUTOLESIONES_ULT_12_MESES  TIPO_AUTOLESIONES_ULT_12_MESES  \\\n",
       "57                           1                 Autolesión leve   \n",
       "96                           0                             NaN   \n",
       "175                          1                 Autolesión leve   \n",
       "215                          0                             NaN   \n",
       "\n",
       "    AUTOLESIONES_ANTERIOR_12_MESES TIPO_AUTOLESIONES_ANT_12_MESES  \\\n",
       "57                               0                            NaN   \n",
       "96                               0                            NaN   \n",
       "175                              0                            NaN   \n",
       "215                              0                            NaN   \n",
       "\n",
       "    FECHA DEL INCIDENTE (Suicidio)  \n",
       "57                      2018-02-15  \n",
       "96                      2018-05-12  \n",
       "175                     2019-06-01  \n",
       "215                     2020-04-08  \n",
       "\n",
       "[4 rows x 90 columns]"
      ]
     },
     "execution_count": 10,
     "metadata": {},
     "output_type": "execute_result"
    }
   ],
   "source": [
    "d1_sc[d1_sc['CT_GRADO'].isna()]"
   ]
  },
  {
   "cell_type": "code",
   "execution_count": 11,
   "metadata": {},
   "outputs": [],
   "source": [
    "d1_sc.drop([57,96,175,215], inplace=True)"
   ]
  },
  {
   "cell_type": "code",
   "execution_count": 12,
   "metadata": {},
   "outputs": [
    {
     "data": {
      "text/html": [
       "<div>\n",
       "<style scoped>\n",
       "    .dataframe tbody tr th:only-of-type {\n",
       "        vertical-align: middle;\n",
       "    }\n",
       "\n",
       "    .dataframe tbody tr th {\n",
       "        vertical-align: top;\n",
       "    }\n",
       "\n",
       "    .dataframe thead th {\n",
       "        text-align: right;\n",
       "    }\n",
       "</style>\n",
       "<table border=\"1\" class=\"dataframe\">\n",
       "  <thead>\n",
       "    <tr style=\"text-align: right;\">\n",
       "      <th></th>\n",
       "      <th>ID_INTERNO</th>\n",
       "      <th>CODIGO_CENTRO_INGRESO</th>\n",
       "      <th>NOMBRE_CENTRO</th>\n",
       "      <th>PROVINCIA_CENTRO</th>\n",
       "      <th>MUNICIPIO_CENTRO</th>\n",
       "      <th>PROVINCIA_RESIDENCIA</th>\n",
       "      <th>NACIONALIDAD</th>\n",
       "      <th>FECHA_NACIMIENTO</th>\n",
       "      <th>SEXO</th>\n",
       "      <th>NUM_ALTAS_LIBERTAD</th>\n",
       "      <th>...</th>\n",
       "      <th>NUM_PPS</th>\n",
       "      <th>ULT_ALTA_PPS</th>\n",
       "      <th>ULT_BAJA_PPS</th>\n",
       "      <th>INTENTO_SUICIDIO_12_MESES</th>\n",
       "      <th>INTENTO_SUICIDIO_ANTERIOR_12_MESES</th>\n",
       "      <th>AUTOLESIONES_ULT_12_MESES</th>\n",
       "      <th>TIPO_AUTOLESIONES_ULT_12_MESES</th>\n",
       "      <th>AUTOLESIONES_ANTERIOR_12_MESES</th>\n",
       "      <th>TIPO_AUTOLESIONES_ANT_12_MESES</th>\n",
       "      <th>FECHA DEL INCIDENTE (Suicidio)</th>\n",
       "    </tr>\n",
       "  </thead>\n",
       "  <tbody>\n",
       "  </tbody>\n",
       "</table>\n",
       "<p>0 rows × 90 columns</p>\n",
       "</div>"
      ],
      "text/plain": [
       "Empty DataFrame\n",
       "Columns: [ID_INTERNO, CODIGO_CENTRO_INGRESO, NOMBRE_CENTRO, PROVINCIA_CENTRO, MUNICIPIO_CENTRO, PROVINCIA_RESIDENCIA, NACIONALIDAD, FECHA_NACIMIENTO, SEXO, NUM_ALTAS_LIBERTAD, FECHA_ULTIMO_INGRESO, FECHA_INGRESO_CENTRO_ACTUAL, FH_BAJA_CENTRO, ESTADO_CIVIL, NIVEL_ESTUDIOS, NUM_HIJOS, NUM_HIJAS, FECHA_NACIMIENTO_HIJO_MAYOR, FECHA_NACIMIENTO_HIJO_MENOR, FECHA_CUMPLIMIENTO_CONDENA, DELITO_MAYOR_CONDENA, CONDENA_AAMMDD, SITUACION_PENAL_INTERNO, CT_GRADO, CT_APLICA, SIT_PENITENCIARIAS_ART75, TIPO_MODULO_UBICACION_INTERNO, ACOMPANADO_CELDA, SALDO_PECULIO_ACTUAL, NUM_INGRESOS_6_MESES, PARENTESCOS_INGRESOS, NUM_COMUNIC_CONVIVENCIA_6_MESES, PARENTESCO_COM_CONVIVENCIA_6_MESES, NUM_COMUNIC_FAMILIAR_6_MESES, PARENTESCO_COM_FAMILIAR_6_MESES, NUM_COMUNIC_INTIMA_6_MESES, PARENTESCO_COM_INTIMA_6_MESES, NUM_COMUNIC_LOCUTORIO_6_MESES, PARENTESCO_COM_LOCUTORIO_6_MESES, NUM_COMUNIC_VIDEOCONF_6_MESES, PARENTESCO_COM_VIDEOCONF_6_MESES, NUM_COMUNIC_VIDEOLLAM_6_MESES, PARENTESCO_COM_VIDEOLLAM_6_MESES, NUM_COMUNIC_CITAPROF_6_MESES, PARENTESCO_COM_CITA_PROF_6_MESES, NUM_LOCUTORIOS_6_MESES, PARENTESCO_LOCUTORIOS_6_MESES, PERMISOS_ULT_12_MESES, NUM_EXP_DISCIPLI_ABIERTOS, FALTAS_PENDIENTES_CUMPLIR, NUM_SANCIONES_POR_CUMPLIR, SANCIONES_POR_CUMPLIR, NUM_ACTIV_AREA_LABORAL_ACTUAL, NUM_ACTIV_AREA_LABORAL_3_MESES, NUM_ACTIV_AREA_LABORAL_15_MESES, ACTIV_AREA_LABORAL_15_MESES, NUM_ACTIV_AREA_TERAPEUTICA_ACTUAL, NUM_ACTIV_AREA_TERAPEUTICA_3_MESES, NUM_ACTIV_AREA_TERAPEUTICA_15_MESES, ACTIV_AREA_TERAPEUTICA_15_MESES, NUM_ACTIV_AREA_FORMATIVA_ACTUAL, NUM_ACTIV_AREA_FORMATIVA_3_MESES, NUM_ACTIV_AREA_FORMATIVA_15_MESES, ACTIV_AREA_FORMATIVA_15_MESES, NUM_ACTIV_AREA_OCUPACIONAL_ACTUAL, NUM_ACTIV_AREA_OCUPACIONAL_3_MESES, NUM_ACTIV_AREA_OCUPACIONAL_15_MESES, ACTIV_AREA_OCUPACIONAL_15_MESES, NUM_ACTIV_AREA_DEPORTIVA_ACTUAL, NUM_ACTIV_AREA_DEPORTIVA_3_MESES, NUM_ACTIV_AREA_DEPORTIVA_15_MESES, ACTIV_AREA_DEPORTIVA_15_MESES, NUM_ACTIV_AREA_EDUCATIVA_ACTUAL, NUM_ACTIV_AREA_EDUCATIVA_3_MESES, NUM_ACTIV_AREA_EDUCATIVA_15_MESES, ACTIV_AREA_EDUCATIVA_15_MESES, NUM_ACTIV_AREA_CULTURAL_ACTUAL, NUM_ACTIV_AREA_CULTURAL_3_MESES, NUM_ACTIV_AREA_CULTURAL_15_MESES, ACTIV_AREA_CULTURAL_15_MESES, NUM_PPS, ULT_ALTA_PPS, ULT_BAJA_PPS, INTENTO_SUICIDIO_12_MESES, INTENTO_SUICIDIO_ANTERIOR_12_MESES, AUTOLESIONES_ULT_12_MESES, TIPO_AUTOLESIONES_ULT_12_MESES, AUTOLESIONES_ANTERIOR_12_MESES, TIPO_AUTOLESIONES_ANT_12_MESES, FECHA DEL INCIDENTE (Suicidio)]\n",
       "Index: []\n",
       "\n",
       "[0 rows x 90 columns]"
      ]
     },
     "execution_count": 12,
     "metadata": {},
     "output_type": "execute_result"
    }
   ],
   "source": [
    "d1_sc[d1_sc['CT_GRADO'].isna()]"
   ]
  },
  {
   "cell_type": "code",
   "execution_count": 13,
   "metadata": {},
   "outputs": [
    {
     "name": "stdout",
     "output_type": "stream",
     "text": [
      "Diccionario de distancias y tiempos actualizado y guardado.\n"
     ]
    },
    {
     "name": "stderr",
     "output_type": "stream",
     "text": [
      "/Users/silvanaruizmedina/Desktop/TFM/Eventos/modelos/EDA_1.py:164: UserWarning: Could not infer format, so each element will be parsed individually, falling back to `dateutil`. To ensure parsing is consistent and as-expected, please specify a format.\n",
      "  df[['ULT_ALTA_PPS_dt', 'ULT_BAJA_PPS_dt']] = df[['ULT_ALTA_PPS', 'ULT_BAJA_PPS']].apply(pd.to_datetime, errors='coerce')\n"
     ]
    }
   ],
   "source": [
    "d1_sc_p = procesado_datos(d1_sc)\n"
   ]
  },
  {
   "cell_type": "code",
   "execution_count": 14,
   "metadata": {},
   "outputs": [
    {
     "name": "stdout",
     "output_type": "stream",
     "text": [
      "Diccionario de distancias y tiempos actualizado y guardado.\n"
     ]
    },
    {
     "name": "stderr",
     "output_type": "stream",
     "text": [
      "/Users/silvanaruizmedina/Desktop/TFM/Eventos/modelos/EDA_1.py:164: UserWarning: Could not infer format, so each element will be parsed individually, falling back to `dateutil`. To ensure parsing is consistent and as-expected, please specify a format.\n",
      "  df[['ULT_ALTA_PPS_dt', 'ULT_BAJA_PPS_dt']] = df[['ULT_ALTA_PPS', 'ULT_BAJA_PPS']].apply(pd.to_datetime, errors='coerce')\n"
     ]
    }
   ],
   "source": [
    "d2_scp = procesado_datos(d2_sc)\n"
   ]
  },
  {
   "cell_type": "code",
   "execution_count": 15,
   "metadata": {},
   "outputs": [
    {
     "name": "stdout",
     "output_type": "stream",
     "text": [
      "Diccionario de distancias y tiempos actualizado y guardado.\n"
     ]
    }
   ],
   "source": [
    "d3_scp = procesado_datos(d3_sc)\n"
   ]
  },
  {
   "cell_type": "code",
   "execution_count": 16,
   "metadata": {},
   "outputs": [
    {
     "name": "stdout",
     "output_type": "stream",
     "text": [
      "Diccionario de distancias y tiempos actualizado y guardado.\n"
     ]
    }
   ],
   "source": [
    "d4_scp = procesado_datos(d4_sc)\n"
   ]
  },
  {
   "cell_type": "code",
   "execution_count": 17,
   "metadata": {},
   "outputs": [
    {
     "name": "stdout",
     "output_type": "stream",
     "text": [
      "Diccionario de distancias y tiempos actualizado y guardado.\n"
     ]
    },
    {
     "name": "stderr",
     "output_type": "stream",
     "text": [
      "/Users/silvanaruizmedina/Desktop/TFM/Eventos/modelos/EDA_1.py:164: UserWarning: Could not infer format, so each element will be parsed individually, falling back to `dateutil`. To ensure parsing is consistent and as-expected, please specify a format.\n",
      "  df[['ULT_ALTA_PPS_dt', 'ULT_BAJA_PPS_dt']] = df[['ULT_ALTA_PPS', 'ULT_BAJA_PPS']].apply(pd.to_datetime, errors='coerce')\n"
     ]
    }
   ],
   "source": [
    "d5_scp = procesado_datos(d5_sc)\n"
   ]
  },
  {
   "cell_type": "code",
   "execution_count": 18,
   "metadata": {},
   "outputs": [
    {
     "name": "stdout",
     "output_type": "stream",
     "text": [
      "Diccionario de distancias y tiempos actualizado y guardado.\n"
     ]
    }
   ],
   "source": [
    "d7_scp = procesado_datos(d7_sc)\n"
   ]
  },
  {
   "cell_type": "code",
   "execution_count": 19,
   "metadata": {},
   "outputs": [
    {
     "name": "stdout",
     "output_type": "stream",
     "text": [
      "Diccionario de distancias y tiempos actualizado y guardado.\n"
     ]
    },
    {
     "name": "stderr",
     "output_type": "stream",
     "text": [
      "/Users/silvanaruizmedina/Desktop/TFM/Eventos/modelos/EDA_1.py:164: UserWarning: Could not infer format, so each element will be parsed individually, falling back to `dateutil`. To ensure parsing is consistent and as-expected, please specify a format.\n",
      "  df[['ULT_ALTA_PPS_dt', 'ULT_BAJA_PPS_dt']] = df[['ULT_ALTA_PPS', 'ULT_BAJA_PPS']].apply(pd.to_datetime, errors='coerce')\n"
     ]
    }
   ],
   "source": [
    "d8_scp = procesado_datos(d8_sc)\n"
   ]
  },
  {
   "cell_type": "code",
   "execution_count": 20,
   "metadata": {},
   "outputs": [],
   "source": [
    "df_total_procesado_antiguo = pd.read_csv('/Users/silvanaruizmedina/Desktop/TFM/Eventos/modelos/df_total_procesado_feb_25.csv.zip')"
   ]
  },
  {
   "cell_type": "code",
   "execution_count": 21,
   "metadata": {},
   "outputs": [
    {
     "name": "stdout",
     "output_type": "stream",
     "text": [
      "Columnas en d_sc1 que faltan en df0: {'FECHA_DEL_INCIDENTE_(Suicidio)', 'FH_BAJA_CENTRO'}\n",
      "Columnas en d_sc2 que faltan en df0: {'FECHA_SUICIDO'}\n",
      "Columnas en d_sc3 que faltan en df0: {'FECHA_SUICIDIO', 'Unnamed:_89', 'Unnamed:_90'}\n",
      "Columnas en d_sc4 que faltan en df0: {'FECHA_DEL_SUICIDIO', 'Unnamed:_89'}\n",
      "Columnas en d_sc5 que faltan en df0: {'FECHA_SUICIDIO'}\n",
      "Columnas en d_sc7 que faltan en df0: {'FECHA_SUCESO', 'Unnamed:_89'}\n",
      "Columnas en d_sc8 que faltan en df0: {'FECHA_SUICIDIO'}\n"
     ]
    }
   ],
   "source": [
    "# Crear un diccionario con los DataFrames\n",
    "dataframes = {i: globals().get(f'd{i}_sc') for i in range(1, 10)}\n",
    "\n",
    "# Iterar sobre los DataFrames y comparar sus columnas con df0\n",
    "for i, df in dataframes.items():\n",
    "    if df is not None:  # Verificar que el DataFrame existe\n",
    "        faltantes = set(df.columns) - set(df0.columns)\n",
    "        print(f\"Columnas en d_sc{i} que faltan en df0: {faltantes}\")\n"
   ]
  },
  {
   "cell_type": "code",
   "execution_count": 22,
   "metadata": {},
   "outputs": [
    {
     "name": "stdout",
     "output_type": "stream",
     "text": [
      "<class 'pandas.core.frame.DataFrame'>\n",
      "RangeIndex: 10 entries, 0 to 9\n",
      "Data columns (total 90 columns):\n",
      " #   Column                               Non-Null Count  Dtype         \n",
      "---  ------                               --------------  -----         \n",
      " 0   ID_INTERNO                           10 non-null     int64         \n",
      " 1   CODIGO_CENTRO_INGRESO                10 non-null     int64         \n",
      " 2   NOMBRE_CENTRO                        10 non-null     object        \n",
      " 3   PROVINCIA_CENTRO                     10 non-null     object        \n",
      " 4   MUNICIPIO_CENTRO                     10 non-null     object        \n",
      " 5   PROVINCIA_RESIDENCIA                 10 non-null     object        \n",
      " 6   NACIONALIDAD                         10 non-null     object        \n",
      " 7   FECHA_NACIMIENTO                     10 non-null     datetime64[ns]\n",
      " 8   SEXO                                 10 non-null     object        \n",
      " 9   NUM_ALTAS_LIBERTAD                   10 non-null     int64         \n",
      " 10  FECHA_ULTIMO_INGRESO                 10 non-null     datetime64[ns]\n",
      " 11  FECHA_INGRESO_CENTRO_ACTUAL          10 non-null     datetime64[ns]\n",
      " 12  ESTADO_CIVIL                         10 non-null     object        \n",
      " 13  NIVEL_ESTUDIOS                       10 non-null     object        \n",
      " 14  NUM_HIJOS                            9 non-null      float64       \n",
      " 15  NUM_HIJAS                            9 non-null      float64       \n",
      " 16  FECHA_NACIMIENTO_HIJO_MAYOR          3 non-null      datetime64[ns]\n",
      " 17  FECHA_NACIMIENTO_HIJO_MENOR          1 non-null      datetime64[ns]\n",
      " 18  FECHA_CUMPLIMIENTO_CONDENA           7 non-null      datetime64[ns]\n",
      " 19  DELITO_MAYOR_CONDENA                 8 non-null      object        \n",
      " 20  DELITOS                              0 non-null      float64       \n",
      " 21  CONDENA_AAMMDD                       10 non-null     object        \n",
      " 22  SITUACION_PENAL_INTERNO              10 non-null     object        \n",
      " 23  CT_GRADO                             10 non-null     int64         \n",
      " 24  CT_APLICA                            10 non-null     int64         \n",
      " 25  SIT_PENITENCIARIAS_ART75             1 non-null      object        \n",
      " 26  TIPO_MODULO_UBICACION_INTERNO        10 non-null     object        \n",
      " 27  ACOMPANADO_CELDA                     3 non-null      object        \n",
      " 28  SALDO_PECULIO_ACTUAL                 9 non-null      float64       \n",
      " 29  NUM_INGRESOS_6_MESES                 10 non-null     int64         \n",
      " 30  PARENTESCOS_INGRESOS                 9 non-null      object        \n",
      " 31  NUM_COMUNIC_CONVIVENCIA_6_MESES      10 non-null     int64         \n",
      " 32  PARENTESCO_COM_CONVIVENCIA_6_MESES   0 non-null      float64       \n",
      " 33  NUM_COMUNIC_FAMILIAR_6_MESES         10 non-null     int64         \n",
      " 34  PARENTESCO_COM_FAMILIAR_6_MESES      2 non-null      object        \n",
      " 35  NUM_COMUNIC_INTIMA_6_MESES           10 non-null     int64         \n",
      " 36  PARENTESCO_COM_INTIMA_6_MESES        0 non-null      float64       \n",
      " 37  NUM_COMUNIC_LOCUTORIO_6_MESES        10 non-null     int64         \n",
      " 38  PARENTESCO_COM_LOCUTORIO_6_MESES     0 non-null      float64       \n",
      " 39  NUM_COMUNIC_VIDEOCONF_6_MESES        10 non-null     int64         \n",
      " 40  PARENTESCO_COM_VIDEOCONF_6_MESES     0 non-null      float64       \n",
      " 41  NUM_COMUNIC_VIDEOLLAM_6_MESES        10 non-null     int64         \n",
      " 42  PARENTESCO_COM_VIDEOLLAM_6_MESES     0 non-null      float64       \n",
      " 43  NUM_COMUNIC_CITAPROF_6_MESES         10 non-null     int64         \n",
      " 44  PARENTESCO_COM_CITA_PROF_6_MESES     0 non-null      float64       \n",
      " 45  NUM_LOCUTORIOS_6_MESES               10 non-null     int64         \n",
      " 46  PARENTESCO_LOCUTORIOS_6_MESES        2 non-null      object        \n",
      " 47  PERMISOS_ULT_12_MESES                10 non-null     int64         \n",
      " 48  NUM_EXP_DISCIPLI_ABIERTOS            10 non-null     int64         \n",
      " 49  FALTAS_PENDIENTES_CUMPLIR            0 non-null      float64       \n",
      " 50  NUM_SANCIONES_POR_CUMPLIR            10 non-null     int64         \n",
      " 51  SANCIONES_POR_CUMPLIR                0 non-null      float64       \n",
      " 52  NUM_ACTIV_AREA_LABORAL_ACTUAL        10 non-null     int64         \n",
      " 53  NUM_ACTIV_AREA_LABORAL_3_MESES       10 non-null     int64         \n",
      " 54  NUM_ACTIV_AREA_LABORAL_15_MESES      10 non-null     int64         \n",
      " 55  ACTIV_AREA_LABORAL_15_MESES          6 non-null      object        \n",
      " 56  NUM_ACTIV_AREA_TERAPEUTICA_ACTUAL    10 non-null     int64         \n",
      " 57  NUM_ACTIV_AREA_TERAPEUTICA_3_MESES   10 non-null     int64         \n",
      " 58  NUM_ACTIV_AREA_TERAPEUTICA_15_MESES  10 non-null     int64         \n",
      " 59  ACTIV_AREA_TERAPEUTICA_15_MESES      5 non-null      object        \n",
      " 60  NUM_ACTIV_AREA_FORMATIVA_ACTUAL      10 non-null     int64         \n",
      " 61  NUM_ACTIV_AREA_FORMATIVA_3_MESES     10 non-null     int64         \n",
      " 62  NUM_ACTIV_AREA_FORMATIVA_15_MESES    10 non-null     int64         \n",
      " 63  ACTIV_AREA_FORMATIVA_15_MESES        0 non-null      float64       \n",
      " 64  NUM_ACTIV_AREA_OCUPACIONAL_ACTUAL    10 non-null     int64         \n",
      " 65  NUM_ACTIV_AREA_OCUPACIONAL_3_MESES   10 non-null     int64         \n",
      " 66  NUM_ACTIV_AREA_OCUPACIONAL_15_MESES  10 non-null     int64         \n",
      " 67  ACTIV_AREA_OCUPACIONAL_15_MESES      5 non-null      object        \n",
      " 68  NUM_ACTIV_AREA_DEPORTIVA_ACTUAL      10 non-null     int64         \n",
      " 69  NUM_ACTIV_AREA_DEPORTIVA_3_MESES     10 non-null     int64         \n",
      " 70  NUM_ACTIV_AREA_DEPORTIVA_15_MESES    10 non-null     int64         \n",
      " 71  ACTIV_AREA_DEPORTIVA_15_MESES        6 non-null      object        \n",
      " 72  NUM_ACTIV_AREA_EDUCATIVA_ACTUAL      10 non-null     int64         \n",
      " 73  NUM_ACTIV_AREA_EDUCATIVA_3_MESES     10 non-null     int64         \n",
      " 74  NUM_ACTIV_AREA_EDUCATIVA_15_MESES    10 non-null     int64         \n",
      " 75  ACTIV_AREA_EDUCATIVA_15_MESES        8 non-null      object        \n",
      " 76  NUM_ACTIV_AREA_CULTURAL_ACTUAL       10 non-null     int64         \n",
      " 77  NUM_ACTIV_AREA_CULTURAL_3_MESES      10 non-null     int64         \n",
      " 78  NUM_ACTIV_AREA_CULTURAL_15_MESES     10 non-null     int64         \n",
      " 79  ACTIV_AREA_CULTURAL_15_MESES         0 non-null      float64       \n",
      " 80  NUM_PPS                              10 non-null     int64         \n",
      " 81  ULT_ALTA_PPS                         2 non-null      datetime64[ns]\n",
      " 82  ULT_BAJA_PPS                         2 non-null      object        \n",
      " 83  INTENTO_SUICIDIO_12_MESES            10 non-null     int64         \n",
      " 84  INTENTO_SUICIDIO_ANTERIOR_12_MESES   10 non-null     int64         \n",
      " 85  AUTOLESIONES_ULT_12_MESES            10 non-null     int64         \n",
      " 86  TIPO_AUTOLESIONES_ULT_12_MESES       1 non-null      object        \n",
      " 87  AUTOLESIONES_ANTERIOR_12_MESES       10 non-null     int64         \n",
      " 88  TIPO_AUTOLESIONES_ANT_12_MESES       3 non-null      object        \n",
      " 89  FECHA_SUICIDO                        10 non-null     datetime64[ns]\n",
      "dtypes: datetime64[ns](8), float64(14), int64(43), object(25)\n",
      "memory usage: 7.2+ KB\n"
     ]
    }
   ],
   "source": [
    "d2_sc.info()"
   ]
  },
  {
   "cell_type": "code",
   "execution_count": 23,
   "metadata": {},
   "outputs": [
    {
     "name": "stdout",
     "output_type": "stream",
     "text": [
      "Diccionario de distancias y tiempos actualizado y guardado.\n"
     ]
    }
   ],
   "source": [
    "df0p = procesado_datos(df0)"
   ]
  },
  {
   "cell_type": "code",
   "execution_count": 1,
   "metadata": {},
   "outputs": [
    {
     "ename": "NameError",
     "evalue": "name 'df0p' is not defined",
     "output_type": "error",
     "traceback": [
      "\u001b[0;31m---------------------------------------------------------------------------\u001b[0m",
      "\u001b[0;31mNameError\u001b[0m                                 Traceback (most recent call last)",
      "Cell \u001b[0;32mIn[1], line 1\u001b[0m\n\u001b[0;32m----> 1\u001b[0m \u001b[43mdf0p\u001b[49m\u001b[38;5;241m.\u001b[39minfo()\n",
      "\u001b[0;31mNameError\u001b[0m: name 'df0p' is not defined"
     ]
    }
   ],
   "source": [
    "df0p.info()"
   ]
  },
  {
   "cell_type": "code",
   "execution_count": 24,
   "metadata": {},
   "outputs": [
    {
     "name": "stdout",
     "output_type": "stream",
     "text": [
      "Diccionario de distancias y tiempos actualizado y guardado.\n"
     ]
    }
   ],
   "source": [
    "df1p = procesado_datos(df1)"
   ]
  },
  {
   "cell_type": "code",
   "execution_count": null,
   "metadata": {},
   "outputs": [],
   "source": []
  },
  {
   "cell_type": "code",
   "execution_count": 25,
   "metadata": {},
   "outputs": [
    {
     "name": "stdout",
     "output_type": "stream",
     "text": [
      "Diccionario de distancias y tiempos actualizado y guardado.\n"
     ]
    },
    {
     "name": "stderr",
     "output_type": "stream",
     "text": [
      "/Users/silvanaruizmedina/Desktop/TFM/Eventos/modelos/EDA_1.py:164: UserWarning: Could not infer format, so each element will be parsed individually, falling back to `dateutil`. To ensure parsing is consistent and as-expected, please specify a format.\n",
      "  df[['ULT_ALTA_PPS_dt', 'ULT_BAJA_PPS_dt']] = df[['ULT_ALTA_PPS', 'ULT_BAJA_PPS']].apply(pd.to_datetime, errors='coerce')\n"
     ]
    }
   ],
   "source": [
    "df2p = procesado_datos(df2)"
   ]
  },
  {
   "cell_type": "code",
   "execution_count": 26,
   "metadata": {},
   "outputs": [
    {
     "name": "stdout",
     "output_type": "stream",
     "text": [
      "Diccionario de distancias y tiempos actualizado y guardado.\n"
     ]
    },
    {
     "name": "stderr",
     "output_type": "stream",
     "text": [
      "/Users/silvanaruizmedina/Desktop/TFM/Eventos/modelos/EDA_1.py:164: UserWarning: Could not infer format, so each element will be parsed individually, falling back to `dateutil`. To ensure parsing is consistent and as-expected, please specify a format.\n",
      "  df[['ULT_ALTA_PPS_dt', 'ULT_BAJA_PPS_dt']] = df[['ULT_ALTA_PPS', 'ULT_BAJA_PPS']].apply(pd.to_datetime, errors='coerce')\n"
     ]
    }
   ],
   "source": [
    "df3p = procesado_datos(df3)"
   ]
  },
  {
   "cell_type": "code",
   "execution_count": 27,
   "metadata": {},
   "outputs": [
    {
     "name": "stdout",
     "output_type": "stream",
     "text": [
      "Diccionario de distancias y tiempos actualizado y guardado.\n"
     ]
    },
    {
     "name": "stderr",
     "output_type": "stream",
     "text": [
      "/Users/silvanaruizmedina/Desktop/TFM/Eventos/modelos/EDA_1.py:164: UserWarning: Could not infer format, so each element will be parsed individually, falling back to `dateutil`. To ensure parsing is consistent and as-expected, please specify a format.\n",
      "  df[['ULT_ALTA_PPS_dt', 'ULT_BAJA_PPS_dt']] = df[['ULT_ALTA_PPS', 'ULT_BAJA_PPS']].apply(pd.to_datetime, errors='coerce')\n"
     ]
    }
   ],
   "source": [
    "df4p = procesado_datos(df4)"
   ]
  },
  {
   "cell_type": "code",
   "execution_count": 28,
   "metadata": {},
   "outputs": [
    {
     "name": "stdout",
     "output_type": "stream",
     "text": [
      "Diccionario de distancias y tiempos actualizado y guardado.\n"
     ]
    },
    {
     "name": "stderr",
     "output_type": "stream",
     "text": [
      "/Users/silvanaruizmedina/Desktop/TFM/Eventos/modelos/EDA_1.py:164: UserWarning: Could not infer format, so each element will be parsed individually, falling back to `dateutil`. To ensure parsing is consistent and as-expected, please specify a format.\n",
      "  df[['ULT_ALTA_PPS_dt', 'ULT_BAJA_PPS_dt']] = df[['ULT_ALTA_PPS', 'ULT_BAJA_PPS']].apply(pd.to_datetime, errors='coerce')\n"
     ]
    }
   ],
   "source": [
    "df5p = procesado_datos(df5)"
   ]
  },
  {
   "cell_type": "code",
   "execution_count": 29,
   "metadata": {},
   "outputs": [
    {
     "name": "stdout",
     "output_type": "stream",
     "text": [
      "Diccionario de distancias y tiempos actualizado y guardado.\n"
     ]
    }
   ],
   "source": [
    "df6p = procesado_datos(df6)"
   ]
  },
  {
   "cell_type": "code",
   "execution_count": 30,
   "metadata": {},
   "outputs": [
    {
     "name": "stdout",
     "output_type": "stream",
     "text": [
      "Diccionario de distancias y tiempos actualizado y guardado.\n"
     ]
    },
    {
     "name": "stderr",
     "output_type": "stream",
     "text": [
      "/Users/silvanaruizmedina/Desktop/TFM/Eventos/modelos/EDA_1.py:164: UserWarning: Could not infer format, so each element will be parsed individually, falling back to `dateutil`. To ensure parsing is consistent and as-expected, please specify a format.\n",
      "  df[['ULT_ALTA_PPS_dt', 'ULT_BAJA_PPS_dt']] = df[['ULT_ALTA_PPS', 'ULT_BAJA_PPS']].apply(pd.to_datetime, errors='coerce')\n"
     ]
    }
   ],
   "source": [
    "df7p = procesado_datos(df7)"
   ]
  },
  {
   "cell_type": "code",
   "execution_count": 31,
   "metadata": {},
   "outputs": [
    {
     "name": "stdout",
     "output_type": "stream",
     "text": [
      "Diccionario de distancias y tiempos actualizado y guardado.\n"
     ]
    }
   ],
   "source": [
    "df8p = procesado_datos(df8)\n"
   ]
  },
  {
   "cell_type": "code",
   "execution_count": 32,
   "metadata": {},
   "outputs": [
    {
     "name": "stdout",
     "output_type": "stream",
     "text": [
      "Diccionario de distancias y tiempos actualizado y guardado.\n"
     ]
    }
   ],
   "source": [
    "df9p = procesado_datos(df9)"
   ]
  },
  {
   "cell_type": "code",
   "execution_count": 33,
   "metadata": {},
   "outputs": [],
   "source": [
    "df_procesado = pd.concat([df0p,df1p, df2p, df3p, df4p, df5p, df6p, df7p, df8p, df9p], ignore_index=False)\n",
    "#df_procesado= df_procesado.fillna(0)"
   ]
  },
  {
   "cell_type": "code",
   "execution_count": 34,
   "metadata": {},
   "outputs": [],
   "source": [
    "df_procesado_totalsc = pd.concat([df_procesado, d1_sc_p, d2_scp, d3_scp, d4_scp, d5_scp, d7_scp, d8_scp], ignore_index=False)"
   ]
  },
  {
   "cell_type": "code",
   "execution_count": 35,
   "metadata": {},
   "outputs": [
    {
     "data": {
      "text/plain": [
       "{'EDAD'}"
      ]
     },
     "execution_count": 35,
     "metadata": {},
     "output_type": "execute_result"
    }
   ],
   "source": [
    "set(df_procesado)  - set(df_total_procesado_antiguo) "
   ]
  },
  {
   "cell_type": "code",
   "execution_count": 36,
   "metadata": {},
   "outputs": [
    {
     "data": {
      "text/plain": [
       "{'SITUACION_PENAL_INTERNO_Pend. Fin Semana'}"
      ]
     },
     "execution_count": 36,
     "metadata": {},
     "output_type": "execute_result"
    }
   ],
   "source": [
    "set( df_procesado_totalsc) - set(df_procesado)"
   ]
  },
  {
   "cell_type": "code",
   "execution_count": 37,
   "metadata": {},
   "outputs": [],
   "source": [
    "df_procesado_totalsc= df_procesado_totalsc.fillna(0)"
   ]
  },
  {
   "cell_type": "code",
   "execution_count": 38,
   "metadata": {},
   "outputs": [
    {
     "data": {
      "text/plain": [
       "[]"
      ]
     },
     "execution_count": 38,
     "metadata": {},
     "output_type": "execute_result"
    }
   ],
   "source": [
    "x = df_procesado_totalsc.columns[df_procesado_totalsc.isna().any()].tolist()\n",
    "x"
   ]
  },
  {
   "cell_type": "code",
   "execution_count": 39,
   "metadata": {},
   "outputs": [],
   "source": [
    "df_procesado_totalsc.to_csv('df_total_sc_19M.csv.zip', compression= 'zip')"
   ]
  },
  {
   "cell_type": "markdown",
   "metadata": {},
   "source": [
    "AQUI EL MERGEEEEEE CONCATTTT SC"
   ]
  },
  {
   "cell_type": "code",
   "execution_count": null,
   "metadata": {},
   "outputs": [],
   "source": []
  },
  {
   "cell_type": "code",
   "execution_count": 40,
   "metadata": {},
   "outputs": [
    {
     "name": "stdout",
     "output_type": "stream",
     "text": [
      "df0: 84\n"
     ]
    }
   ],
   "source": [
    "# Llama a la función con tus DataFrames\n",
    "def unique(dataframes, nombres, column):\n",
    "    for df, nombre in zip(dataframes, nombres):\n",
    "        if column in df.columns:\n",
    "            cantidad = len(df[column].unique())\n",
    "            print(f'{nombre}: {cantidad}')\n",
    "        else:\n",
    "            print(f'{nombre}: No exite la columna {column}')\n",
    "dataframes = [df0, #df1, df2,df3, df4\n",
    "              ]\n",
    "nombres = ['df0', 'df1', 'df2', 'df3',\n",
    "            'df4']\n",
    "column = 'NOMBRE_CENTRO'\n",
    "unique(dataframes, nombres, column)"
   ]
  },
  {
   "cell_type": "code",
   "execution_count": 41,
   "metadata": {},
   "outputs": [
    {
     "name": "stdout",
     "output_type": "stream",
     "text": [
      "df0: 12\n",
      "df1: 11\n",
      "df2: 12\n",
      "df3: 12\n",
      "df4: 12\n"
     ]
    }
   ],
   "source": [
    "# Llama a la función con tus DataFrames\n",
    "def unique(dataframes, nombres, column):\n",
    "    for df, nombre in zip(dataframes, nombres):\n",
    "        if column in df.columns:\n",
    "            cantidad = len(df[column].unique())\n",
    "            print(f'{nombre}: {cantidad}')\n",
    "        else:\n",
    "            print(f'{nombre}: No exite la columna {column}')\n",
    "dataframes = [df0, df1, df2,df3, df4]\n",
    "nombres = ['df0', 'df1', 'df2', 'df3', 'df4']\n",
    "column = 'TIPO_MODULO_UBICACION_INTERNO'\n",
    "unique(dataframes, nombres, column)\n"
   ]
  },
  {
   "cell_type": "code",
   "execution_count": 42,
   "metadata": {},
   "outputs": [
    {
     "name": "stdout",
     "output_type": "stream",
     "text": [
      "df0: 7\n",
      "df1: 8\n",
      "df2: 8\n",
      "df3: 7\n",
      "df4: 8\n"
     ]
    }
   ],
   "source": [
    "def unique(dataframes, nombres, column):\n",
    "    for df, nombre in zip(dataframes, nombres):\n",
    "        if column in df.columns:\n",
    "            cantidad = len(df[column].unique())\n",
    "            print(f'{nombre}: {cantidad}')\n",
    "        else:\n",
    "            print(f'{nombre}: No exite la columna {column}')\n",
    "dataframes = [df0, df1, df2,df3, df4]\n",
    "nombres = ['df0', 'df1', 'df2', 'df3', 'df4']\n",
    "column = 'SITUACION_PENAL_INTERNO'\n",
    "unique(dataframes, nombres, column)\n"
   ]
  }
 ],
 "metadata": {
  "kernelspec": {
   "display_name": ".venv",
   "language": "python",
   "name": "python3"
  },
  "language_info": {
   "codemirror_mode": {
    "name": "ipython",
    "version": 3
   },
   "file_extension": ".py",
   "mimetype": "text/x-python",
   "name": "python",
   "nbconvert_exporter": "python",
   "pygments_lexer": "ipython3",
   "version": "3.10.16"
  }
 },
 "nbformat": 4,
 "nbformat_minor": 2
}
